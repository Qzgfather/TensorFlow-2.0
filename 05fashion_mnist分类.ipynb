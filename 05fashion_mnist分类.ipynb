{
 "cells": [
  {
   "cell_type": "markdown",
   "metadata": {},
   "source": [
    "# Fashion MNIST\n",
    "Fashion MNIST的目标是作为经典MNIST数据的替换——通常被用作计算机视觉机器学习程序的“Hello, World”。MNIST数据集包含手写数字(0,1,2等)的图像，格式与我们将在这里使用的衣服相同使用了时尚MNIST的多样性，因为它是一个比常规MNIST稍微更具挑战性的问题。这两个数据集都相对较小，用于验证算法是否按预期工作。它们是测试和调试代码的好起点我们将使用6万张图片来训练网络和1万张图片来评估网络对图片的分类有多精确。"
   ]
  },
  {
   "cell_type": "code",
   "execution_count": 1,
   "metadata": {},
   "outputs": [],
   "source": [
    "import tensorflow as tf\n",
    "import math\n",
    "import numpy as np\n",
    "import matplotlib.pyplot as plt\n",
    "from tensorflow import keras"
   ]
  },
  {
   "cell_type": "code",
   "execution_count": 2,
   "metadata": {},
   "outputs": [],
   "source": [
    "(train_images, train_labels), (test_images, test_labels) = keras.datasets.fashion_mnist.load_data()\n",
    "\n",
    "class_names = ['T-shirt/top', 'Trouser', 'Pullover', 'Dress', 'Coat', \n",
    "               'Sandal',      'Shirt',   'Sneaker',  'Bag',   'Ankle boot']\n"
   ]
  },
  {
   "cell_type": "code",
   "execution_count": 25,
   "metadata": {},
   "outputs": [
    {
     "name": "stdout",
     "output_type": "stream",
     "text": [
      "Train on 60000 samples\n",
      "Epoch 1/10\n",
      "60000/60000 [==============================] - 48s 796us/sample - loss: 2.3028 - sparse_categorical_accuracy: 0.0995 - loss: 2.3028 - sparse\n",
      "Epoch 2/10\n",
      "60000/60000 [==============================] - 47s 777us/sample - loss: 2.3027 - sparse_categorical_accuracy: 0.0993\n",
      "Epoch 3/10\n",
      "60000/60000 [==============================] - 47s 785us/sample - loss: 2.3028 - sparse_categorical_accuracy: 0.0975\n",
      "Epoch 4/10\n",
      "60000/60000 [==============================] - 47s 786us/sample - loss: 2.3028 - sparse_categorical_accuracy: 0.0990\n",
      "Epoch 5/10\n",
      "60000/60000 [==============================] - 47s 791us/sample - loss: 2.3028 - sparse_categorical_accuracy: 0.0989\n",
      "Epoch 6/10\n",
      "60000/60000 [==============================] - 48s 804us/sample - loss: 2.3028 - sparse_categorical_accuracy: 0.0989\n",
      "Epoch 7/10\n",
      "60000/60000 [==============================] - 47s 776us/sample - loss: 2.3028 - sparse_categorical_accuracy: 0.0980 - \n",
      "Epoch 8/10\n",
      "60000/60000 [==============================] - 48s 795us/sample - loss: 2.3027 - sparse_categorical_accuracy: 0.1011 - l\n",
      "Epoch 9/10\n",
      "60000/60000 [==============================] - 47s 790us/sample - loss: 2.3028 - sparse_categorical_accuracy: 0.0986\n",
      "Epoch 10/10\n",
      "60000/60000 [==============================] - 48s 799us/sample - loss: 2.3028 - sparse_categorical_accuracy: 0.0986- ETA: 6s - los - ETA: 0s - loss: 2.3028 - sparse_categorical_\n",
      "Model: \"sequential_7\"\n",
      "_________________________________________________________________\n",
      "Layer (type)                 Output Shape              Param #   \n",
      "=================================================================\n",
      "dense_17 (Dense)             multiple                  615440    \n",
      "_________________________________________________________________\n",
      "dense_18 (Dense)             multiple                  78500     \n",
      "_________________________________________________________________\n",
      "dense_19 (Dense)             multiple                  10100     \n",
      "_________________________________________________________________\n",
      "dense_20 (Dense)             multiple                  1010      \n",
      "=================================================================\n",
      "Total params: 705,050\n",
      "Trainable params: 705,050\n",
      "Non-trainable params: 0\n",
      "_________________________________________________________________\n"
     ]
    }
   ],
   "source": [
    "train_images = train_images.reshape(60000, 784).astype('float32') / 225\n",
    "\n",
    "\n",
    "model = keras.Sequential()\n",
    "model.add(keras.layers.Dense(784,activation='relu'))\n",
    "model.add(keras.layers.Dense(100,activation='relu'))\n",
    "model.add(keras.layers.Dense(100,activation='relu'))\n",
    "model.add(keras.layers.Dense(10,activation='softmax'))\n",
    "\n",
    "model.compile(\n",
    "    optimizer=keras.optimizers.RMSprop(),\n",
    "    loss=keras.losses.SparseCategoricalCrossentropy(),\n",
    "    metrics=[keras.metrics.SparseCategoricalAccuracy()]\n",
    ")\n",
    "\n",
    "model.fit(train_images,train_labels,batch_size=32,epochs=10)\n",
    "model.summary()"
   ]
  },
  {
   "cell_type": "code",
   "execution_count": 10,
   "metadata": {},
   "outputs": [
    {
     "name": "stdout",
     "output_type": "stream",
     "text": [
      "Train on 60000 samples\n",
      "60000/60000 [==============================] - 11s 180us/sample - loss: 0.4988 - sparse_categorical_accuracy: 0.8211\n"
     ]
    },
    {
     "data": {
      "text/plain": [
       "<tensorflow.python.keras.callbacks.History at 0x1b7aee16748>"
      ]
     },
     "execution_count": 10,
     "metadata": {},
     "output_type": "execute_result"
    }
   ],
   "source": [
    "train_images = train_images.reshape(60000, 784).astype('float32') / 225\n",
    "inputs = keras.Input(shape=(784))\n",
    "h1 = keras.layers.Dense(100,activation='relu')(inputs)\n",
    "h2 = keras.layers.Dense(100,activation='relu')(h1)\n",
    "pred = keras.layers.Dense(10,activation='softmax')(h2)\n",
    "\n",
    "model = keras.Model(inputs=inputs,outputs=pred)\n",
    "\n",
    "model.compile(optimizer=keras.optimizers.RMSprop(),\n",
    "              loss=keras.losses.SparseCategoricalCrossentropy(),\n",
    "              metrics=[keras.metrics.SparseCategoricalAccuracy()]\n",
    "             )\n",
    "    \n",
    "model.fit(train_images,train_labels)"
   ]
  },
  {
   "cell_type": "markdown",
   "metadata": {},
   "source": [
    "## 小结\n",
    "到目前为止我们介绍深度学习的“Hello World”项目（mnist、fashion mnist）时采用的是多层感知机模型，这种模型每一层都是全连接层，接下来我们将介绍卷积神经网络。"
   ]
  }
 ],
 "metadata": {
  "kernelspec": {
   "display_name": "Python 3",
   "language": "python",
   "name": "python3"
  },
  "language_info": {
   "codemirror_mode": {
    "name": "ipython",
    "version": 3
   },
   "file_extension": ".py",
   "mimetype": "text/x-python",
   "name": "python",
   "nbconvert_exporter": "python",
   "pygments_lexer": "ipython3",
   "version": "3.6.6"
  }
 },
 "nbformat": 4,
 "nbformat_minor": 2
}
