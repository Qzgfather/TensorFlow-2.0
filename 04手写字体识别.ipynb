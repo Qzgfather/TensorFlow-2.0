{
 "cells": [
  {
   "cell_type": "markdown",
   "metadata": {},
   "source": [
    "# 1.MNIST数据集介绍\n",
    "MNIST 数据集来自美国国家标准与技术研究所, National Institute of Standards and Technology (NIST). 训练集 (training set) 由来自 250 个不同人手写的数字构成, 其中 50% 是高中学生, 50% 来自人口普查局 (the Census Bureau) 的工作人员. 测试集(test set) 也是同样比例的手写数字数据.\n",
    "\n",
    "这一节我将介绍不同的实现方法，以后遇到的不同的代码风格可以进行分辨。"
   ]
  },
  {
   "cell_type": "code",
   "execution_count": 2,
   "metadata": {},
   "outputs": [],
   "source": [
    "import tensorflow as tf\n",
    "from tensorflow import keras\n",
    "(x_train, y_train), (x_test, y_test) = keras.datasets.mnist.load_data()"
   ]
  },
  {
   "cell_type": "code",
   "execution_count": 17,
   "metadata": {},
   "outputs": [
    {
     "name": "stdout",
     "output_type": "stream",
     "text": [
      "(60000, 784)\n",
      "(60000,)\n"
     ]
    }
   ],
   "source": [
    "x_train = x_train.reshape(60000,784) / 225\n",
    "print(x_train.shape)\n",
    "print(y_train.shape)"
   ]
  },
  {
   "cell_type": "code",
   "execution_count": 4,
   "metadata": {},
   "outputs": [
    {
     "name": "stdout",
     "output_type": "stream",
     "text": [
      "Train on 60000 samples, validate on 10000 samples\n",
      "Epoch 1/10\n",
      "60000/60000 [==============================] - 25s 409us/sample - loss: 0.2003 - sparse_categorical_accuracy: 0.9391 - val_loss: 0.1028 - val_sparse_categorical_accuracy: 0.9672\n",
      "Epoch 2/10\n",
      "60000/60000 [==============================] - 23s 382us/sample - loss: 0.0840 - sparse_categorical_accuracy: 0.9744 - val_loss: 0.0582 - val_sparse_categorical_accuracy: 0.9832\n",
      "Epoch 3/10\n",
      "60000/60000 [==============================] - 23s 383us/sample - loss: 0.0580 - sparse_categorical_accuracy: 0.9823 - val_loss: 0.0399 - val_sparse_categorical_accuracy: 0.9878\n",
      "Epoch 4/10\n",
      "60000/60000 [==============================] - 23s 385us/sample - loss: 0.0437 - sparse_categorical_accuracy: 0.9871 - val_loss: 0.0230 - val_sparse_categorical_accuracy: 0.9927ss: 0.0439 - sparse_categorical_accura\n",
      "Epoch 5/10\n",
      "60000/60000 [==============================] - 23s 379us/sample - loss: 0.0352 - sparse_categorical_accuracy: 0.9898 - val_loss: 0.0167 - val_sparse_categorical_accuracy: 0.9952\n",
      "Epoch 6/10\n",
      "60000/60000 [==============================] - 24s 395us/sample - loss: 0.0264 - sparse_categorical_accuracy: 0.9919 - val_loss: 0.0135 - val_sparse_categorical_accuracy: 0.9954\n",
      "Epoch 7/10\n",
      "60000/60000 [==============================] - 23s 383us/sample - loss: 0.0220 - sparse_categorical_accuracy: 0.9934 - val_loss: 0.0231 - val_sparse_categorical_accuracy: 0.9939\n",
      "Epoch 8/10\n",
      "60000/60000 [==============================] - 23s 383us/sample - loss: 0.0189 - sparse_categorical_accuracy: 0.9947 - val_loss: 0.0121 - val_sparse_categorical_accuracy: 0.9966\n",
      "Epoch 9/10\n",
      "60000/60000 [==============================] - 25s 418us/sample - loss: 0.0149 - sparse_categorical_accuracy: 0.9956 - val_loss: 0.0144 - val_sparse_categorical_accuracy: 0.9960\n",
      "Epoch 10/10\n",
      "60000/60000 [==============================] - 25s 415us/sample - loss: 0.0135 - sparse_categorical_accuracy: 0.9961 - val_loss: 0.0104 - val_sparse_categorical_accuracy: 0.9972\n",
      "Model: \"sequential\"\n",
      "_________________________________________________________________\n",
      "Layer (type)                 Output Shape              Param #   \n",
      "=================================================================\n",
      "dense (Dense)                multiple                  615440    \n",
      "_________________________________________________________________\n",
      "dense_1 (Dense)              multiple                  50240     \n",
      "_________________________________________________________________\n",
      "dense_2 (Dense)              multiple                  650       \n",
      "=================================================================\n",
      "Total params: 666,330\n",
      "Trainable params: 666,330\n",
      "Non-trainable params: 0\n",
      "_________________________________________________________________\n"
     ]
    }
   ],
   "source": [
    "# 直接堆叠方式1\n",
    "model = tf.keras.Sequential()\n",
    "model.add(tf.keras.layers.Dense(784,activation=\"relu\"))\n",
    "model.add(tf.keras.layers.Dense(64,activation=\"relu\"))\n",
    "model.add(tf.keras.layers.Dense(10,activation=\"softmax\"))\n",
    "\n",
    "model.compile(\n",
    "    optimizer= keras.optimizers.RMSprop(),\n",
    "    loss=keras.losses.SparseCategoricalCrossentropy(),\n",
    "    metrics=[keras.metrics.SparseCategoricalAccuracy()]\n",
    ")\n",
    "\n",
    "x_val = x_train[-10000:]\n",
    "y_val = y_train[-10000:]\n",
    "\n",
    "model.fit(x_train,y_train,batch_size=64,epochs=10, validation_data=(x_val, y_val))\n",
    "\n",
    "model.summary()"
   ]
  },
  {
   "cell_type": "code",
   "execution_count": 10,
   "metadata": {},
   "outputs": [
    {
     "name": "stdout",
     "output_type": "stream",
     "text": [
      "Train on 60000 samples\n",
      "Epoch 1/3\n",
      "60000/60000 [==============================] - 24s 398us/sample - loss: 0.2034 - sparse_categorical_accuracy: 0.9374 - loss: 0.2495 - sparse_categorical_accuracy: 0. - E - ETA: 5s - loss: 0.2254  - ETA: 2s - loss: 0.2143 - sparse_categorical_accu - ETA: 1s - loss: 0.2114 - spar\n",
      "Epoch 2/3\n",
      "60000/60000 [==============================] - 23s 382us/sample - loss: 0.0836 - sparse_categorical_accuracy: 0.9748\n",
      "Epoch 3/3\n",
      "60000/60000 [==============================] - 22s 372us/sample - loss: 0.0582 - sparse_categorical_accuracy: 0.9823\n",
      "Model: \"sequential_1\"\n",
      "_________________________________________________________________\n",
      "Layer (type)                 Output Shape              Param #   \n",
      "=================================================================\n",
      "dense_3 (Dense)              multiple                  615440    \n",
      "_________________________________________________________________\n",
      "dense_4 (Dense)              multiple                  50240     \n",
      "_________________________________________________________________\n",
      "dense_5 (Dense)              multiple                  650       \n",
      "=================================================================\n",
      "Total params: 666,330\n",
      "Trainable params: 666,330\n",
      "Non-trainable params: 0\n",
      "_________________________________________________________________\n"
     ]
    }
   ],
   "source": [
    "# 直接堆叠方式2\n",
    "model = tf.keras.Sequential(\n",
    "    [\n",
    "    tf.keras.layers.Dense(784,activation=\"relu\"),\n",
    "    tf.keras.layers.Dense(64,activation=\"relu\"),\n",
    "    tf.keras.layers.Dense(10,activation=\"softmax\")\n",
    "    ]\n",
    ")\n",
    "\n",
    "model.compile(\n",
    "    optimizer= keras.optimizers.RMSprop(),\n",
    "    loss=keras.losses.SparseCategoricalCrossentropy(),\n",
    "    metrics=[keras.metrics.SparseCategoricalAccuracy()]\n",
    ")\n",
    "\n",
    "x_val = x_train[-10000:]\n",
    "y_val = y_train[-10000:]\n",
    "\n",
    "model.fit(x_train,y_train,batch_size=64,epochs=3)\n",
    "\n",
    "model.summary()"
   ]
  },
  {
   "cell_type": "code",
   "execution_count": 13,
   "metadata": {},
   "outputs": [
    {
     "name": "stdout",
     "output_type": "stream",
     "text": [
      "Train on 60000 samples\n",
      "Epoch 1/10\n",
      "60000/60000 [==============================] - 5s 82us/sample - loss: 0.3105 - sparse_categorical_accuracy: 0.9109\n",
      "Epoch 2/10\n",
      "60000/60000 [==============================] - 4s 70us/sample - loss: 0.1393 - sparse_categorical_accuracy: 0.9575\n",
      "Epoch 3/10\n",
      "60000/60000 [==============================] - 4s 72us/sample - loss: 0.1029 - sparse_categorical_accuracy: 0.9685\n",
      "Epoch 4/10\n",
      "60000/60000 [==============================] - 4s 70us/sample - loss: 0.0827 - sparse_categorical_accuracy: 0.9753\n",
      "Epoch 5/10\n",
      "60000/60000 [==============================] - 4s 69us/sample - loss: 0.0697 - sparse_categorical_accuracy: 0.9794\n",
      "Epoch 6/10\n",
      "60000/60000 [==============================] - 4s 66us/sample - loss: 0.0606 - sparse_categorical_accuracy: 0.9819\n",
      "Epoch 7/10\n",
      "60000/60000 [==============================] - 4s 68us/sample - loss: 0.0529 - sparse_categorical_accuracy: 0.9845\n",
      "Epoch 8/10\n",
      "60000/60000 [==============================] - 4s 69us/sample - loss: 0.0478 - sparse_categorical_accuracy: 0.9865\n",
      "Epoch 9/10\n",
      "60000/60000 [==============================] - 4s 68us/sample - loss: 0.0418 - sparse_categorical_accuracy: 0.9878\n",
      "Epoch 10/10\n",
      "60000/60000 [==============================] - 4s 67us/sample - loss: 0.0378 - sparse_categorical_accuracy: 0.9887\n",
      "Model: \"model\"\n",
      "_________________________________________________________________\n",
      "Layer (type)                 Output Shape              Param #   \n",
      "=================================================================\n",
      "mnist_input (InputLayer)     [(None, 784)]             0         \n",
      "_________________________________________________________________\n",
      "dense_8 (Dense)              (None, 64)                50240     \n",
      "_________________________________________________________________\n",
      "dense_9 (Dense)              (None, 64)                4160      \n",
      "_________________________________________________________________\n",
      "dense_10 (Dense)             (None, 10)                650       \n",
      "=================================================================\n",
      "Total params: 55,050\n",
      "Trainable params: 55,050\n",
      "Non-trainable params: 0\n",
      "_________________________________________________________________\n"
     ]
    }
   ],
   "source": [
    "# 函数式API\n",
    "inputs = keras.Input(shape=(784,), name='mnist_input')\n",
    "h1 = keras.layers.Dense(64, activation='relu')(inputs)\n",
    "h1 = keras.layers.Dense(64, activation='relu')(h1)\n",
    "outputs = keras.layers.Dense(10, activation='softmax')(h1)\n",
    "model = keras.Model(inputs, outputs)\n",
    "\n",
    "model.compile(\n",
    "    optimizer= keras.optimizers.RMSprop(),\n",
    "    loss=keras.losses.SparseCategoricalCrossentropy(),\n",
    "    metrics=[keras.metrics.SparseCategoricalAccuracy()]\n",
    ")\n",
    "\n",
    "x_val = x_train[-10000:]\n",
    "y_val = y_train[-10000:]\n",
    "\n",
    "model.fit(x_train,y_train,batch_size=64,epochs=10)\n",
    "\n",
    "model.summary()"
   ]
  },
  {
   "cell_type": "code",
   "execution_count": 16,
   "metadata": {},
   "outputs": [
    {
     "name": "stdout",
     "output_type": "stream",
     "text": [
      "Train on 60000 samples\n",
      "Epoch 1/10\n",
      "60000/60000 [==============================] - 23s 385us/sample - loss: 0.2151 - sparse_categorical_accuracy: 0.9346\n",
      "Epoch 2/10\n",
      "60000/60000 [==============================] - 23s 379us/sample - loss: 0.0847 - sparse_categorical_accuracy: 0.9747\n",
      "Epoch 3/10\n",
      "60000/60000 [==============================] - 23s 378us/sample - loss: 0.0577 - sparse_categorical_accuracy: 0.9824 - loss: 0.0580 - sparse_categorical_accuracy: 0.\n",
      "Epoch 4/10\n",
      "60000/60000 [==============================] - 22s 372us/sample - loss: 0.0442 - sparse_categorical_accuracy: 0.9869\n",
      "Epoch 5/10\n",
      "60000/60000 [==============================] - 23s 379us/sample - loss: 0.0344 - sparse_categorical_accuracy: 0.9900\n",
      "Epoch 6/10\n",
      "60000/60000 [==============================] - 23s 386us/sample - loss: 0.0272 - sparse_categorical_accuracy: 0.9921 - loss:\n",
      "Epoch 7/10\n",
      "60000/60000 [==============================] - 22s 374us/sample - loss: 0.0231 - sparse_categorical_accuracy: 0.9934\n",
      "Epoch 8/10\n",
      "60000/60000 [==============================] - 23s 385us/sample - loss: 0.0178 - sparse_categorical_accuracy: 0.9952 - loss: \n",
      "Epoch 9/10\n",
      "60000/60000 [==============================] - 23s 375us/sample - loss: 0.0168 - sparse_categorical_accuracy: 0.9952\n",
      "Epoch 10/10\n",
      "60000/60000 [==============================] - 22s 372us/sample - loss: 0.0131 - sparse_categorical_accuracy: 0.9959\n",
      "Model: \"my_model_1\"\n",
      "_________________________________________________________________\n",
      "Layer (type)                 Output Shape              Param #   \n",
      "=================================================================\n",
      "dense_11 (Dense)             multiple                  615440    \n",
      "_________________________________________________________________\n",
      "dense_12 (Dense)             multiple                  50240     \n",
      "_________________________________________________________________\n",
      "dense_13 (Dense)             multiple                  650       \n",
      "=================================================================\n",
      "Total params: 666,330\n",
      "Trainable params: 666,330\n",
      "Non-trainable params: 0\n",
      "_________________________________________________________________\n"
     ]
    }
   ],
   "source": [
    "# 高级自定义模型\n",
    "class MyModel(keras.Model):\n",
    "    def __init__(self):\n",
    "        super(MyModel, self).__init__()\n",
    "        self.dense = keras.layers.Dense(784, activation='relu')\n",
    "        self.d1 = keras.layers.Dense(64, activation='relu')\n",
    "        self.d2 = keras.layers.Dense(10, activation='softmax')\n",
    "    def call(self, x):\n",
    "        x = self.dense(x)\n",
    "        x = self.d1(x)\n",
    "        return self.d2(x)\n",
    "\n",
    "model = MyModel()\n",
    "model.compile(\n",
    "    optimizer= keras.optimizers.RMSprop(),\n",
    "    loss=keras.losses.SparseCategoricalCrossentropy(),\n",
    "    metrics=[keras.metrics.SparseCategoricalAccuracy()]\n",
    ")\n",
    "\n",
    "model.fit(x_train,y_train,batch_size=64,epochs=10)\n",
    "\n",
    "model.summary()"
   ]
  },
  {
   "cell_type": "code",
   "execution_count": null,
   "metadata": {},
   "outputs": [],
   "source": [
    "   "
   ]
  }
 ],
 "metadata": {
  "kernelspec": {
   "display_name": "Python 3",
   "language": "python",
   "name": "python3"
  },
  "language_info": {
   "codemirror_mode": {
    "name": "ipython",
    "version": 3
   },
   "file_extension": ".py",
   "mimetype": "text/x-python",
   "name": "python",
   "nbconvert_exporter": "python",
   "pygments_lexer": "ipython3",
   "version": "3.6.6"
  }
 },
 "nbformat": 4,
 "nbformat_minor": 2
}
