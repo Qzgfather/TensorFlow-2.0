{
 "cells": [
  {
   "cell_type": "markdown",
   "metadata": {},
   "source": [
    "# images 转 tfrecord\n",
    "使用此脚本可以将图片转化为tfrecord格式的文件。\n",
    "\n",
    "tensorflow >2.0.0\n",
    "\n",
    "需要两个文件，一个是图片文件的路径，一个是标签例如：images.txt  labels.txt\n",
    "\n",
    "主要用到两个命令读取和反编码图片。\n",
    "\n",
    "img_raw = tf.io.read_file(image_path)\n",
    "\n",
    "img_tensor = tf.image.decode_image(img_raw)"
   ]
  },
  {
   "cell_type": "code",
   "execution_count": 49,
   "metadata": {},
   "outputs": [],
   "source": [
    "import tensorflow as tf\n",
    "\n",
    "\n",
    "images_path_file = open('./images.txt', 'r')\n",
    "images_path_list = []\n",
    "\n",
    "labels = open('./labels.txt', 'r')\n",
    "\n",
    "'''\n",
    "判断文件路径是否含有换行符\n",
    "'''\n",
    "for i in images_path_file:\n",
    "    if i[-1] == '\\n':\n",
    "        images_path_list.append(i[:-1])\n",
    "    else:\n",
    "        images_path_list.append(i)\n",
    "        \n",
    "labels_list = [int(x[0:-1]) for x in labels]\n",
    "data = zip(images_path_list, labels_list)\n"
   ]
  },
  {
   "cell_type": "code",
   "execution_count": 14,
   "metadata": {},
   "outputs": [],
   "source": [
    "def _bytes_feature(value):\n",
    "    \"\"\"Returns a bytes_list from a string / byte.\"\"\"\n",
    "    if isinstance(value, type(tf.constant(0))):\n",
    "        value = value.numpy() # BytesList won't unpack a string from an EagerTensor.\n",
    "    return tf.train.Feature(bytes_list=tf.train.BytesList(value=[value]))\n",
    "\n",
    "\n",
    "def _float_feature(value):\n",
    "    \"\"\"Returns a float_list from a float / double.\"\"\"\n",
    "    return tf.train.Feature(float_list=tf.train.FloatList(value=[value]))\n",
    "\n",
    "\n",
    "def _int64_feature(value):\n",
    "    \"\"\"Returns an int64_list from a bool / enum / int / uint.\"\"\"\n",
    "    return tf.train.Feature(int64_list=tf.train.Int64List(value=[value]))\n",
    "\n",
    "\n",
    "def image_example(image_string, label):\n",
    "    image_shape = tf.image.decode_jpeg(image_string).shape\n",
    "    feature = {\n",
    "        'height': _int64_feature(image_shape[0]),\n",
    "        'width': _int64_feature(image_shape[1]),\n",
    "        'depth': _int64_feature(image_shape[2]),\n",
    "        'label': _int64_feature(label),\n",
    "        'image_raw': _bytes_feature(image_string),\n",
    "    }\n",
    "\n",
    "    return tf.train.Example(features=tf.train.Features(feature=feature))"
   ]
  },
  {
   "cell_type": "code",
   "execution_count": 15,
   "metadata": {},
   "outputs": [],
   "source": [
    "record_file = 'tset.tfrecords'\n",
    "with tf.io.TFRecordWriter(record_file) as writer:\n",
    "    for filename, label in data:\n",
    "        image_string = open(filename, 'rb').read()\n",
    "        tf_example = image_example(image_string, label)\n",
    "        writer.write(tf_example.SerializeToString())"
   ]
  },
  {
   "cell_type": "markdown",
   "metadata": {},
   "source": [
    "# 读取文件\n",
    "\n",
    "下面的代码用于恢复图像信息，如果需要可以将下面的代码复制到你的代码中"
   ]
  },
  {
   "cell_type": "code",
   "execution_count": 36,
   "metadata": {},
   "outputs": [],
   "source": [
    "import numpy as np\n",
    "\n",
    "\n",
    "raw_image_dataset = tf.data.TFRecordDataset('tset.tfrecords')\n",
    "\n",
    "# Create a dictionary describing the features.\n",
    "image_feature_description = {\n",
    "    # 'height': tf.io.FixedLenFeature([], tf.int64),\n",
    "    # 'width': tf.io.FixedLenFeature([], tf.int64),\n",
    "    # 'depth': tf.io.FixedLenFeature([], tf.int64),\n",
    "    'label': tf.io.FixedLenFeature([], tf.int64),\n",
    "    'image_raw': tf.io.FixedLenFeature([], tf.string)\n",
    "}\n",
    "\n",
    "\n",
    "def _parse_image_function(example_proto):\n",
    "    '''\n",
    "    恢复到数组形式，并将数组添加一个维度形成(None，height, weight, channels)的形式，方便下一步的训练\n",
    "    '''\n",
    "    image_raw = tf.io.parse_single_example(example_proto,\n",
    "                                      {'image_raw': tf.io.FixedLenFeature([], tf.string)})['image_raw']\n",
    "    image = tf.image.decode_jpeg(image_raw, channels=3)\n",
    "    image = tf.image.resize(image, [227, 227])\n",
    "    image = tf.expand_dims(image, axis=0)\n",
    "    image /= 255.0  # normalize to [0,1] range\n",
    "\n",
    "    return image\n",
    "\n",
    "\n",
    "def _labels(example_proto):\n",
    "    return tf.io.parse_single_example(example_proto,\n",
    "                                      {'label': tf.io.FixedLenFeature([], tf.int64)})['label']"
   ]
  },
  {
   "cell_type": "code",
   "execution_count": 39,
   "metadata": {},
   "outputs": [],
   "source": [
    "images = raw_image_dataset.map(_parse_image_function)\n",
    "labels =  raw_image_dataset.map(_labels)\n",
    "dataset = tf.data.Dataset.zip((images, labels))"
   ]
  },
  {
   "cell_type": "markdown",
   "metadata": {},
   "source": [
    "## 导入模型中\n",
    "\n",
    "Example"
   ]
  },
  {
   "cell_type": "code",
   "execution_count": 40,
   "metadata": {},
   "outputs": [
    {
     "name": "stdout",
     "output_type": "stream",
     "text": [
      "Epoch 1/2\n",
      "79/79 [==============================] - 14s 183ms/step - loss: 0.0281 - accuracy: 1.0000\n",
      "Epoch 2/2\n",
      "79/79 [==============================] - 13s 170ms/step - loss: 0.0000e+00 - accuracy: 1.0000\n"
     ]
    }
   ],
   "source": [
    "227# 建立模型\n",
    "from tensorflow.keras import layers\n",
    "model = tf.keras.Sequential()\n",
    "model.add(layers.Conv2D(32, (3, 3), activation='relu', input_shape=(227, 227, 3)))\n",
    "model.add(layers.MaxPooling2D((2, 2)))\n",
    "model.add(layers.Conv2D(64, (3, 3), activation='relu'))\n",
    "model.add(layers.MaxPooling2D((2, 2)))\n",
    "model.add(layers.Conv2D(64, (3, 3), activation='relu'))\n",
    "model.add(layers.Flatten())\n",
    "model.add(layers.Dense(20, activation='relu'))\n",
    "model.add(layers.Dense(10, activation='softmax'))\n",
    "\n",
    "\n",
    "# 进行编译和训练\n",
    "model.compile(optimizer='adam',\n",
    "              loss='sparse_categorical_crossentropy',\n",
    "              metrics=['accuracy'])\n",
    "\n",
    "history = model.fit(dataset, epochs=2)"
   ]
  },
  {
   "cell_type": "code",
   "execution_count": null,
   "metadata": {},
   "outputs": [],
   "source": []
  }
 ],
 "metadata": {
  "kernelspec": {
   "display_name": "Python 3",
   "language": "python",
   "name": "python3"
  },
  "language_info": {
   "codemirror_mode": {
    "name": "ipython",
    "version": 3
   },
   "file_extension": ".py",
   "mimetype": "text/x-python",
   "name": "python",
   "nbconvert_exporter": "python",
   "pygments_lexer": "ipython3",
   "version": "3.6.6"
  }
 },
 "nbformat": 4,
 "nbformat_minor": 4
}
